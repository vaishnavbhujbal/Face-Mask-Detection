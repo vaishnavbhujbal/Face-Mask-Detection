{
 "cells": [
  {
   "cell_type": "code",
   "execution_count": 1,
   "id": "7747a865-0a13-4b20-ba73-432e6d77d326",
   "metadata": {},
   "outputs": [
    {
     "name": "stdout",
     "output_type": "stream",
     "text": [
      "Defaulting to user installation because normal site-packages is not writeable\n",
      "Collecting opencv-python\n",
      "  Downloading opencv_python-4.10.0.84-cp37-abi3-win_amd64.whl.metadata (20 kB)\n",
      "Requirement already satisfied: numpy>=1.21.2 in c:\\programdata\\anaconda3\\lib\\site-packages (from opencv-python) (1.26.4)\n",
      "Downloading opencv_python-4.10.0.84-cp37-abi3-win_amd64.whl (38.8 MB)\n",
      "   ---------------------------------------- 0.0/38.8 MB ? eta -:--:--\n",
      "   ---------------------------------------- 0.3/38.8 MB ? eta -:--:--\n",
      "    --------------------------------------- 0.5/38.8 MB 1.2 MB/s eta 0:00:33\n",
      "   - -------------------------------------- 1.0/38.8 MB 1.9 MB/s eta 0:00:20\n",
      "   - -------------------------------------- 1.3/38.8 MB 2.2 MB/s eta 0:00:18\n",
      "   - -------------------------------------- 1.6/38.8 MB 1.5 MB/s eta 0:00:26\n",
      "   - -------------------------------------- 1.8/38.8 MB 1.5 MB/s eta 0:00:24\n",
      "   -- ------------------------------------- 2.4/38.8 MB 1.7 MB/s eta 0:00:22\n",
      "   -- ------------------------------------- 2.9/38.8 MB 1.8 MB/s eta 0:00:21\n",
      "   --- ------------------------------------ 3.4/38.8 MB 1.8 MB/s eta 0:00:20\n",
      "   ---- ----------------------------------- 4.2/38.8 MB 2.0 MB/s eta 0:00:18\n",
      "   ---- ----------------------------------- 4.7/38.8 MB 2.1 MB/s eta 0:00:17\n",
      "   ----- ---------------------------------- 5.2/38.8 MB 2.2 MB/s eta 0:00:16\n",
      "   ------ --------------------------------- 6.0/38.8 MB 2.3 MB/s eta 0:00:15\n",
      "   ------ --------------------------------- 6.6/38.8 MB 2.3 MB/s eta 0:00:15\n",
      "   ------- -------------------------------- 7.3/38.8 MB 2.4 MB/s eta 0:00:14\n",
      "   -------- ------------------------------- 8.1/38.8 MB 2.5 MB/s eta 0:00:13\n",
      "   --------- ------------------------------ 9.2/38.8 MB 2.6 MB/s eta 0:00:12\n",
      "   ---------- ----------------------------- 10.0/38.8 MB 2.7 MB/s eta 0:00:11\n",
      "   ----------- ---------------------------- 10.7/38.8 MB 2.7 MB/s eta 0:00:11\n",
      "   ------------ --------------------------- 11.8/38.8 MB 2.8 MB/s eta 0:00:10\n",
      "   ------------ --------------------------- 12.6/38.8 MB 2.8 MB/s eta 0:00:10\n",
      "   ------------- -------------------------- 13.4/38.8 MB 2.9 MB/s eta 0:00:09\n",
      "   -------------- ------------------------- 14.2/38.8 MB 2.9 MB/s eta 0:00:09\n",
      "   --------------- ------------------------ 15.2/38.8 MB 3.0 MB/s eta 0:00:08\n",
      "   ---------------- ----------------------- 16.3/38.8 MB 3.1 MB/s eta 0:00:08\n",
      "   ----------------- ---------------------- 17.3/38.8 MB 3.1 MB/s eta 0:00:07\n",
      "   ------------------ --------------------- 18.4/38.8 MB 3.2 MB/s eta 0:00:07\n",
      "   ------------------- -------------------- 19.4/38.8 MB 3.3 MB/s eta 0:00:06\n",
      "   --------------------- ------------------ 20.4/38.8 MB 3.3 MB/s eta 0:00:06\n",
      "   ---------------------- ----------------- 21.8/38.8 MB 3.4 MB/s eta 0:00:05\n",
      "   ----------------------- ---------------- 22.8/38.8 MB 3.5 MB/s eta 0:00:05\n",
      "   ------------------------ --------------- 24.1/38.8 MB 3.6 MB/s eta 0:00:05\n",
      "   ------------------------- -------------- 25.2/38.8 MB 3.6 MB/s eta 0:00:04\n",
      "   --------------------------- ------------ 26.5/38.8 MB 3.7 MB/s eta 0:00:04\n",
      "   ---------------------------- ----------- 27.8/38.8 MB 3.7 MB/s eta 0:00:03\n",
      "   ----------------------------- ---------- 28.8/38.8 MB 3.8 MB/s eta 0:00:03\n",
      "   ------------------------------- -------- 30.4/38.8 MB 3.9 MB/s eta 0:00:03\n",
      "   -------------------------------- ------- 31.7/38.8 MB 3.9 MB/s eta 0:00:02\n",
      "   ---------------------------------- ----- 33.0/38.8 MB 4.0 MB/s eta 0:00:02\n",
      "   ---------------------------------- ----- 33.8/38.8 MB 4.0 MB/s eta 0:00:02\n",
      "   ------------------------------------ --- 35.1/38.8 MB 4.1 MB/s eta 0:00:01\n",
      "   ------------------------------------- -- 36.7/38.8 MB 4.1 MB/s eta 0:00:01\n",
      "   ---------------------------------------  38.0/38.8 MB 4.2 MB/s eta 0:00:01\n",
      "   ---------------------------------------- 38.8/38.8 MB 4.2 MB/s eta 0:00:00\n",
      "Installing collected packages: opencv-python\n",
      "Successfully installed opencv-python-4.10.0.84\n"
     ]
    },
    {
     "name": "stderr",
     "output_type": "stream",
     "text": [
      "\n",
      "[notice] A new release of pip is available: 24.2 -> 24.3.1\n",
      "[notice] To update, run: python.exe -m pip install --upgrade pip\n"
     ]
    }
   ],
   "source": [
    "!pip install opencv-python\n"
   ]
  },
  {
   "cell_type": "code",
   "execution_count": 2,
   "id": "67aeba12-940c-4c74-8c31-591adc36b950",
   "metadata": {},
   "outputs": [
    {
     "ename": "SyntaxError",
     "evalue": "invalid syntax (842801469.py, line 1)",
     "output_type": "error",
     "traceback": [
      "\u001b[1;36m  Cell \u001b[1;32mIn[2], line 1\u001b[1;36m\u001b[0m\n\u001b[1;33m    python.exe -m pip install --upgrade pip\u001b[0m\n\u001b[1;37m                  ^\u001b[0m\n\u001b[1;31mSyntaxError\u001b[0m\u001b[1;31m:\u001b[0m invalid syntax\n"
     ]
    }
   ],
   "source": [
    "python.exe -m pip install --upgrade pip"
   ]
  },
  {
   "cell_type": "code",
   "execution_count": 3,
   "id": "0f673f7d-7511-4573-998a-4e2766e6cecd",
   "metadata": {},
   "outputs": [
    {
     "ename": "SyntaxError",
     "evalue": "invalid syntax (3919076351.py, line 1)",
     "output_type": "error",
     "traceback": [
      "\u001b[1;36m  Cell \u001b[1;32mIn[3], line 1\u001b[1;36m\u001b[0m\n\u001b[1;33m    pip install --upgrade pip\u001b[0m\n\u001b[1;37m        ^\u001b[0m\n\u001b[1;31mSyntaxError\u001b[0m\u001b[1;31m:\u001b[0m invalid syntax\n"
     ]
    }
   ],
   "source": [
    "pip install --upgrade pip\n",
    "\n"
   ]
  },
  {
   "cell_type": "code",
   "execution_count": 4,
   "id": "b178d29a-c8e2-43dd-9021-3e03ca392404",
   "metadata": {},
   "outputs": [
    {
     "ename": "SyntaxError",
     "evalue": "invalid syntax (842801469.py, line 1)",
     "output_type": "error",
     "traceback": [
      "\u001b[1;36m  Cell \u001b[1;32mIn[4], line 1\u001b[1;36m\u001b[0m\n\u001b[1;33m    python.exe -m pip install --upgrade pip\u001b[0m\n\u001b[1;37m                  ^\u001b[0m\n\u001b[1;31mSyntaxError\u001b[0m\u001b[1;31m:\u001b[0m invalid syntax\n"
     ]
    }
   ],
   "source": [
    "python.exe -m pip install --upgrade pip"
   ]
  },
  {
   "cell_type": "code",
   "execution_count": 5,
   "id": "f4192f8e-c29f-41b2-994c-de4dd2e044a2",
   "metadata": {},
   "outputs": [],
   "source": [
    "import cv2\n"
   ]
  },
  {
   "cell_type": "code",
   "execution_count": null,
   "id": "08e2c33d-214c-4262-ac2d-39d10f122dfe",
   "metadata": {},
   "outputs": [],
   "source": []
  }
 ],
 "metadata": {
  "kernelspec": {
   "display_name": "Python 3 (ipykernel)",
   "language": "python",
   "name": "python3"
  },
  "language_info": {
   "codemirror_mode": {
    "name": "ipython",
    "version": 3
   },
   "file_extension": ".py",
   "mimetype": "text/x-python",
   "name": "python",
   "nbconvert_exporter": "python",
   "pygments_lexer": "ipython3",
   "version": "3.12.4"
  }
 },
 "nbformat": 4,
 "nbformat_minor": 5
}
